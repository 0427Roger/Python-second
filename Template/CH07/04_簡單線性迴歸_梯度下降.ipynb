{
 "cells": [
  {
   "cell_type": "markdown",
   "metadata": {},
   "source": [
    "# 使用自動微分估算簡單線性迴歸的參數(w、b)\n",
    "## $ y = wx + b$"
   ]
  },
  {
   "cell_type": "code",
   "execution_count": null,
   "metadata": {},
   "outputs": [],
   "source": [
    "# 載入套件\n",
    "import numpy as np \n",
    "import tensorflow as tf "
   ]
  },
  {
   "cell_type": "markdown",
   "metadata": {},
   "source": [
    "## 定義訓練函數"
   ]
  },
  {
   "cell_type": "code",
   "execution_count": null,
   "metadata": {},
   "outputs": [],
   "source": [
    "# 定義損失函數\n",
    "def loss(y, y_pred):\n",
    "    return tf.reduce_mean(tf.square(y - y_pred))"
   ]
  },
  {
   "cell_type": "code",
   "execution_count": null,
   "metadata": {},
   "outputs": [],
   "source": [
    "# 定義預測值函數\n",
    "def predict(X):\n",
    "    return w * X + b    "
   ]
  },
  {
   "cell_type": "code",
   "execution_count": null,
   "metadata": {},
   "outputs": [],
   "source": [
    "# 定義訓練函數\n",
    "def train(X, y, epochs=40, lr=0.0001):\n",
    "    current_loss=0                                # 損失函數值\n",
    "    for epoch in range(epochs):                   # 執行訓練週期\n",
    "        with tf.GradientTape() as t:              # 自動微分\n",
    "            t.watch(tf.constant(X))               # 宣告 TensorFlow 常數參與自動微分\n",
    "            current_loss = loss(y, predict(X))    # 計算損失函數值\n",
    "        \n",
    "        dw, db = t.gradient(current_loss, [w, b]) # 取得 w, b 個別的梯度\n",
    "\n",
    "        # 更新權重：新權重 = 原權重 — 學習率(learning_rate) * 梯度(gradient)\n",
    "        w.assign_sub(lr * dw) # w -= lr * dw\n",
    "        b.assign_sub(lr * db) # b -= lr * db\n",
    "\n",
    "        # 顯示每一訓練週期的損失函數\n",
    "        print(f'Epoch {epoch}: Loss: {current_loss.numpy()}') "
   ]
  },
  {
   "cell_type": "markdown",
   "metadata": {},
   "source": [
    "## 產生隨機資料"
   ]
  },
  {
   "cell_type": "code",
   "execution_count": null,
   "metadata": {},
   "outputs": [],
   "source": [
    "# 產生線性隨機資料100筆，介於 0-50\n",
    "n = 100\n",
    "X = np.linspace(0, 50, n) \n",
    "y = np.linspace(0, 50, n) \n",
    "  \n",
    "# 資料加一點雜訊(noise)\n",
    "X += np.random.uniform(-10, 10, n) \n",
    "y += np.random.uniform(-10, 10, n) "
   ]
  },
  {
   "cell_type": "code",
   "execution_count": null,
   "metadata": {},
   "outputs": [],
   "source": [
    "X"
   ]
  },
  {
   "cell_type": "code",
   "execution_count": null,
   "metadata": {
    "scrolled": true
   },
   "outputs": [],
   "source": [
    "y"
   ]
  },
  {
   "cell_type": "markdown",
   "metadata": {},
   "source": [
    "## 執行訓練"
   ]
  },
  {
   "cell_type": "code",
   "execution_count": null,
   "metadata": {
    "scrolled": false
   },
   "outputs": [],
   "source": [
    "# w、b 初始值均設為 0\n",
    "w = tf.Variable(0.0)\n",
    "b = tf.Variable(0.0)\n",
    "\n",
    "# 執行訓練\n",
    "train(X, y)\n",
    "\n",
    "# w、b 的最佳解\n",
    "print(f'w={w.numpy()}, b={b.numpy()}')"
   ]
  },
  {
   "cell_type": "markdown",
   "metadata": {},
   "source": [
    "## 顯示迴歸線"
   ]
  },
  {
   "cell_type": "code",
   "execution_count": null,
   "metadata": {
    "scrolled": false
   },
   "outputs": [],
   "source": [
    "import matplotlib.pyplot as plt \n",
    "\n",
    "plt.scatter(X, y, label='data')\n",
    "plt.plot(X, predict(X), 'r-', label='predicted')\n",
    "plt.legend();"
   ]
  },
  {
   "cell_type": "code",
   "execution_count": null,
   "metadata": {},
   "outputs": [],
   "source": []
  }
 ],
 "metadata": {
  "kernelspec": {
   "display_name": "Python 3 (ipykernel)",
   "language": "python",
   "name": "python3"
  },
  "language_info": {
   "codemirror_mode": {
    "name": "ipython",
    "version": 3
   },
   "file_extension": ".py",
   "mimetype": "text/x-python",
   "name": "python",
   "nbconvert_exporter": "python",
   "pygments_lexer": "ipython3",
   "version": "3.11.7"
  }
 },
 "nbformat": 4,
 "nbformat_minor": 4
}
