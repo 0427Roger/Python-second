{
 "cells": [
  {
   "cell_type": "code",
   "execution_count": null,
   "metadata": {},
   "outputs": [],
   "source": [
    "import numpy as np\n",
    "import matplotlib.pyplot as plt\n",
    "import pandas as pd\n",
    "\n",
    "\n",
    "def function(x)->float:\n",
    "    return x ** 3 - 6 * x ** 2 + 12 * x + 2\n",
    "\n",
    "def derivative(x)->float:\n",
    "    return 3*x**2-12*x+12\n",
    "\n",
    "def gradient_descent(x_new,learning_rate:float=0.03,epochs:int=20,loss:int=0.2):\n",
    "    x_history=[x_new]\n",
    "    count=0\n",
    "    while True:\n",
    "        if count==epochs:\n",
    "            break\n",
    "        slope=derivative(x_new)\n",
    "        x_new-=slope*learning_rate\n",
    "        x_history.append(x_new)\n",
    "        count+=1\n",
    "    \n",
    "    return x_history,x_new\n",
    "    \n",
    "    \n",
    "\n",
    "x=np.arange(-6,6,0.1)\n",
    "y=function(x)\n",
    "\n",
    "x_data,x_new=gradient_descent(x_new=5,epochs=1500)\n",
    "y_data=[function(xi) for xi in x_data]\n",
    "plt.scatter(x_data,y_data,color='r')\n",
    "plt.plot(x_data,y_data,color='r')\n",
    "plt.plot(x,y)\n",
    "\n",
    "plt.show()\n",
    "\n",
    "print(f'x={x_new},y={function(x_new)}')"
   ]
  }
 ],
 "metadata": {
  "kernelspec": {
   "display_name": "Python 3",
   "language": "python",
   "name": "python3"
  },
  "language_info": {
   "codemirror_mode": {
    "name": "ipython",
    "version": 3
   },
   "file_extension": ".py",
   "mimetype": "text/x-python",
   "name": "python",
   "nbconvert_exporter": "python",
   "pygments_lexer": "ipython3",
   "version": "3.10.13"
  }
 },
 "nbformat": 4,
 "nbformat_minor": 2
}
